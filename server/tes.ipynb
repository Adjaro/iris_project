{
 "cells": [
  {
   "cell_type": "code",
   "execution_count": 5,
   "metadata": {},
   "outputs": [
    {
     "name": "stdout",
     "output_type": "stream",
     "text": [
      "/c/Users/ediad/Documents/fouilleDonneesMassives/iris_project/server\n"
     ]
    }
   ],
   "source": [
    "!pwd"
   ]
  },
  {
   "cell_type": "code",
   "execution_count": 9,
   "metadata": {},
   "outputs": [],
   "source": [
    "from sklearn.tree import DecisionTreeClassifier\n",
    "import pandas as pd\n",
    "import  pickle\n",
    "from sklearn.pipeline import make_pipeline\n",
    "from   sklearn.preprocessing import StandardScaler\n",
    "import os\n",
    "\n",
    "\n",
    "scaler = StandardScaler()\n",
    "model = make_pipeline(scaler, DecisionTreeClassifier(random_state=42))\n",
    "\n",
    "# Charger le jeu de données Iris\n",
    "data = pd.read_csv(\"data/iris.csv\")\n",
    "\n",
    "X = data.drop(\"label\", axis=1)\n",
    "y = data[\"label\"]\n",
    "\n",
    "# Entraîner le modèle\n",
    "model.fit(X, y)\n",
    "\n",
    "#creer le  dossier model si il n'existe pas\n",
    "if not os.path.exists(\"model\"):\n",
    "    os.makedirs(\"model\")\n",
    "# Sauvegarder le modèle entraîné dans un fichier .pkl\n",
    "with open(\"model/model.pkl\", \"wb\") as f:\n",
    "    pickle.dump(model, f)"
   ]
  }
 ],
 "metadata": {
  "kernelspec": {
   "display_name": "challenge_ia",
   "language": "python",
   "name": "python3"
  },
  "language_info": {
   "codemirror_mode": {
    "name": "ipython",
    "version": 3
   },
   "file_extension": ".py",
   "mimetype": "text/x-python",
   "name": "python",
   "nbconvert_exporter": "python",
   "pygments_lexer": "ipython3",
   "version": "3.13.2"
  }
 },
 "nbformat": 4,
 "nbformat_minor": 2
}
